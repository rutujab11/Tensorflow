{
 "cells": [
  {
   "cell_type": "markdown",
   "metadata": {},
   "source": [
    "#### Understanding the features of tensorflow and implementing the graph with tensorboard"
   ]
  },
  {
   "cell_type": "code",
   "execution_count": 1,
   "metadata": {
    "id": "9d452e66"
   },
   "outputs": [],
   "source": [
    "#Importing the tensorflow library\n",
    "import tensorflow as tf"
   ]
  },
  {
   "cell_type": "code",
   "execution_count": 2,
   "metadata": {
    "id": "f0255d51",
    "outputId": "179e0d27-f5ef-4d1f-c2a2-9c025c11061d"
   },
   "outputs": [
    {
     "name": "stdout",
     "output_type": "stream",
     "text": [
      "Tensor(\"Const:0\", shape=(), dtype=float32)\n"
     ]
    }
   ],
   "source": [
    "#Running in default mode - differed execution\n",
    "#We will not get the internal details and no graph functionalities availaible\n",
    "tf.compat.v1.disable_eager_execution()\n",
    "a=tf.constant(2.0)\n",
    "print(a)"
   ]
  },
  {
   "cell_type": "code",
   "execution_count": 3,
   "metadata": {
    "id": "7424b56e"
   },
   "outputs": [],
   "source": [
    "#Creating a session\n",
    "session = tf.compat.v1.Session()"
   ]
  },
  {
   "cell_type": "code",
   "execution_count": 4,
   "metadata": {
    "id": "bcdae5ad",
    "outputId": "7cbc579c-18de-49f1-9c56-f1406c81ee0d"
   },
   "outputs": [
    {
     "name": "stdout",
     "output_type": "stream",
     "text": [
      "2.0\n"
     ]
    }
   ],
   "source": [
    "print(session.run(a))"
   ]
  },
  {
   "cell_type": "code",
   "execution_count": 5,
   "metadata": {
    "id": "60d93451",
    "outputId": "d2fcc878-67c9-4ef3-c6d4-418be1ea56df"
   },
   "outputs": [
    {
     "name": "stdout",
     "output_type": "stream",
     "text": [
      "Type of a : <class 'tensorflow.python.framework.ops.Tensor'>\n"
     ]
    }
   ],
   "source": [
    "print(\"Type of a : %s\" % type(a))"
   ]
  },
  {
   "cell_type": "code",
   "execution_count": 6,
   "metadata": {
    "id": "6703f60b",
    "outputId": "1123fb97-474c-4fc2-bf2d-ca166879ffed"
   },
   "outputs": [
    {
     "name": "stdout",
     "output_type": "stream",
     "text": [
      "[<tf.Tensor 'Const_1:0' shape=() dtype=float32>, <tf.Tensor 'add:0' shape=() dtype=float32>]\n"
     ]
    }
   ],
   "source": [
    "#Addition\n",
    "b=tf.constant(3.0)\n",
    "c=a+b\n",
    "print([b,c])"
   ]
  },
  {
   "cell_type": "code",
   "execution_count": 7,
   "metadata": {
    "id": "1db71712",
    "outputId": "90907f8c-b8ff-4d4a-d40a-38cd0e55e672"
   },
   "outputs": [
    {
     "name": "stdout",
     "output_type": "stream",
     "text": [
      "5.0\n"
     ]
    }
   ],
   "source": [
    "print(session.run(c))"
   ]
  },
  {
   "cell_type": "code",
   "execution_count": 8,
   "metadata": {
    "id": "aab0be61",
    "outputId": "ac0ea6e7-2daa-456a-8599-335045872394"
   },
   "outputs": [
    {
     "name": "stdout",
     "output_type": "stream",
     "text": [
      "[<tf.Tensor 'Const_2:0' shape=(4,) dtype=int32>, <tf.Tensor 'Const_3:0' shape=(4,) dtype=int32>]\n"
     ]
    }
   ],
   "source": [
    "#Multiplication\n",
    "x1=tf.constant([1,2,3,4])\n",
    "x2=tf.constant([5,6,7,8])\n",
    "print([x1,x2])"
   ]
  },
  {
   "cell_type": "code",
   "execution_count": 9,
   "metadata": {
    "id": "88fa3343",
    "outputId": "e9ef967b-062d-43f7-a32b-095fd6680cb7"
   },
   "outputs": [
    {
     "name": "stdout",
     "output_type": "stream",
     "text": [
      "[1 2 3 4]\n"
     ]
    }
   ],
   "source": [
    "print(session.run(x1))"
   ]
  },
  {
   "cell_type": "code",
   "execution_count": 10,
   "metadata": {
    "id": "b047d4ce",
    "outputId": "7b8736dc-6035-4bee-fb48-12f38758a977"
   },
   "outputs": [
    {
     "name": "stdout",
     "output_type": "stream",
     "text": [
      "[ 5 12 21 32]\n"
     ]
    }
   ],
   "source": [
    "res=tf.multiply(x1,x2)\n",
    "print(session.run(res))"
   ]
  },
  {
   "cell_type": "code",
   "execution_count": 11,
   "metadata": {
    "id": "63c0edce",
    "outputId": "58477a14-8ac2-4eac-e506-27e1e43559c4"
   },
   "outputs": [
    {
     "name": "stdout",
     "output_type": "stream",
     "text": [
      "WARNING:tensorflow:From C:\\Users\\admin\\Anaconda3\\envs\\tensorflow\\lib\\site-packages\\tensorflow\\python\\compat\\v2_compat.py:96: disable_resource_variables (from tensorflow.python.ops.variable_scope) is deprecated and will be removed in a future version.\n",
      "Instructions for updating:\n",
      "non-resource variables are not supported in the long term\n",
      "Tensor(\"x:0\", shape=(), dtype=int32)\n",
      "Type of x : <class 'tensorflow.python.framework.ops.Tensor'>\n",
      "Type of y : <class 'tensorflow.python.ops.variables.RefVariable'>\n"
     ]
    }
   ],
   "source": [
    "import tensorflow.compat.v1 as tf\n",
    "tf.disable_v2_behavior()\n",
    "x=tf.constant(35,name='x')\n",
    "print(x)\n",
    "y = tf.Variable(x+5,name='y')\n",
    "print(\"Type of x : %s\" % type(x))\n",
    "print(\"Type of y : %s\" % type(y))"
   ]
  },
  {
   "cell_type": "code",
   "execution_count": 12,
   "metadata": {
    "id": "89520ec6",
    "outputId": "f5f1e53e-887c-4015-fd1f-c31a03eeac39"
   },
   "outputs": [
    {
     "name": "stdout",
     "output_type": "stream",
     "text": [
      "40\n"
     ]
    }
   ],
   "source": [
    "model = tf.compat.v1.global_variables_initializer()\n",
    "with tf.Session() as session:\n",
    "    session.run(model)\n",
    "    print(session.run(y))"
   ]
  },
  {
   "cell_type": "code",
   "execution_count": 13,
   "metadata": {
    "id": "4d950241",
    "outputId": "d060f625-8168-45d4-83db-fae538dc09a0"
   },
   "outputs": [
    {
     "name": "stdout",
     "output_type": "stream",
     "text": [
      "[3. 7.]\n"
     ]
    }
   ],
   "source": [
    "a=tf.placeholder(tf.float32)\n",
    "b=tf.placeholder(tf.float32)\n",
    "adder_node=a+b\n",
    "#Initialize the session\n",
    "session=tf.Session()\n",
    "#Print the result\n",
    "print(session.run(adder_node,{a:[1,3],b:[2,4]}))\n",
    "session.close()"
   ]
  },
  {
   "cell_type": "code",
   "execution_count": 14,
   "metadata": {
    "id": "79334613",
    "outputId": "5df285d2-adbe-4859-d02d-9a02282e133c"
   },
   "outputs": [
    {
     "name": "stdout",
     "output_type": "stream",
     "text": [
      "[[ 2.  4.  6.]\n",
      " [ 8. 10. 12.]]\n"
     ]
    }
   ],
   "source": [
    "x=tf.placeholder(\"float\",[None,3])\n",
    "y=x*2\n",
    "with tf.Session() as session:\n",
    "  x_data=[[1,2,3],[4,5,6]]\n",
    "  result=session.run(y,feed_dict={x : x_data})\n",
    "  print(result)"
   ]
  },
  {
   "cell_type": "code",
   "execution_count": 15,
   "metadata": {
    "id": "19f17edb"
   },
   "outputs": [
    {
     "name": "stdout",
     "output_type": "stream",
     "text": [
      "Tensor(\"Placeholder_2:0\", shape=(?, 3), dtype=float32)\n"
     ]
    }
   ],
   "source": [
    "print(x)"
   ]
  },
  {
   "cell_type": "code",
   "execution_count": 17,
   "metadata": {},
   "outputs": [
    {
     "name": "stdout",
     "output_type": "stream",
     "text": [
      "Tensor(\"x_1:0\", shape=(), dtype=int32)\n",
      "Type of a : <class 'tensorflow.python.framework.ops.Tensor'>\n",
      "Type of a : <class 'tensorflow.python.ops.variables.RefVariable'>\n"
     ]
    }
   ],
   "source": [
    "x = tf.constant(14, name='x')\n",
    "print(x)\n",
    "\n",
    "y = tf.Variable(x+5, name='y')\n",
    "\n",
    "print(\"Type of a : %s\" % type(x))\n",
    "print(\"Type of a : %s\" % type(y))"
   ]
  },
  {
   "cell_type": "code",
   "execution_count": 18,
   "metadata": {},
   "outputs": [
    {
     "name": "stdout",
     "output_type": "stream",
     "text": [
      "19\n",
      "19\n"
     ]
    }
   ],
   "source": [
    "init = tf.compat.v1.global_variables_initializer()\n",
    "\n",
    "with tf.compat.v1.Session() as sess:\n",
    "    sess.run(init)\n",
    "    # Usage passing the session explicitly.\n",
    "    print(y.eval(sess))\n",
    "    # Usage with the default session.  The 'with' block\n",
    "    # above makes 'sess' the default session.\n",
    "    print(y.eval())"
   ]
  }
 ],
 "metadata": {
  "colab": {
   "name": "Untitled6.ipynb",
   "provenance": []
  },
  "kernelspec": {
   "display_name": "Python 3",
   "language": "python",
   "name": "python3"
  },
  "language_info": {
   "codemirror_mode": {
    "name": "ipython",
    "version": 3
   },
   "file_extension": ".py",
   "mimetype": "text/x-python",
   "name": "python",
   "nbconvert_exporter": "python",
   "pygments_lexer": "ipython3",
   "version": "3.7.3"
  }
 },
 "nbformat": 4,
 "nbformat_minor": 5
}
